{
  "nbformat": 4,
  "nbformat_minor": 0,
  "metadata": {
    "colab": {
      "provenance": []
    },
    "kernelspec": {
      "name": "python3",
      "display_name": "Python 3"
    },
    "language_info": {
      "name": "python"
    }
  },
  "cells": [
    {
      "cell_type": "code",
      "execution_count": 11,
      "metadata": {
        "colab": {
          "base_uri": "https://localhost:8080/"
        },
        "id": "5bdTU3NZNIFs",
        "outputId": "10cad4b1-6a04-4454-f59c-317f78f03180"
      },
      "outputs": [
        {
          "output_type": "stream",
          "name": "stdout",
          "text": [
            "enter a string: Edyoda\n",
            "adoydE"
          ]
        }
      ],
      "source": [
        "#Using forloop:\n",
        "\n",
        "strg = str(input(\"Enter a string: \"))\n",
        "for ltr in range(len(strg)-1,-1,-1):\n",
        "        print(strg[ltr],end=\"\")"
      ]
    },
    {
      "cell_type": "code",
      "source": [
        "stng2 = str(input(\"Enter a string : \"))\n",
        "print(stng2[::-1])"
      ],
      "metadata": {
        "colab": {
          "base_uri": "https://localhost:8080/"
        },
        "id": "qdKaSJ7OZQzZ",
        "outputId": "365b75b7-51b6-47ae-a992-aa8f79377356"
      },
      "execution_count": 12,
      "outputs": [
        {
          "output_type": "stream",
          "name": "stdout",
          "text": [
            "Enter a string : Edyoda\n",
            "adoydE\n"
          ]
        }
      ]
    }
  ]
}